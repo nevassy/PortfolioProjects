{
 "cells": [
  {
   "cell_type": "markdown",
   "id": "e034d03b-a618-457d-a44f-2f2036b8b81a",
   "metadata": {},
   "source": [
    "## Predicting Used Car Price Depreciation"
   ]
  },
  {
   "cell_type": "code",
   "execution_count": 1,
   "id": "052e276e-f973-4e89-8ac8-904b5cbbb2c9",
   "metadata": {},
   "outputs": [],
   "source": [
    "# Import the libraries\n",
    "import pandas as pd\n",
    "import numpy as np\n",
    "import seaborn as sns"
   ]
  },
  {
   "cell_type": "code",
   "execution_count": 2,
   "id": "eff631e7-e2d6-4c25-905b-a7678b8301e7",
   "metadata": {},
   "outputs": [],
   "source": [
    "# Load the dataset\n",
    "url = 'https://storage.googleapis.com/introduction-to-data-science/car-prices.csv'\n",
    "df = pd.read_csv(url)"
   ]
  },
  {
   "cell_type": "markdown",
   "id": "a397e21c-ca6f-4cb6-9999-813b39f9ef51",
   "metadata": {},
   "source": [
    "This dataset contains information about used cars listed on www.cardekho.com\n",
    "\n",
    "The *columns* in the given dataset are as follows:\n",
    "\n",
    "*Features:*\n",
    "- **Car_Age**: number of years since the car was bought\n",
    "- **Present_Price**: the current price of the car out of the factory (in k€)\n",
    "- **Kms_Driven**: the distance completed by the car (10,000 km)\n",
    "- **Fuel_Type**: whether the fuel type is Diesel (0) or Petrol (1)\n",
    "- **Seller_Type**: whether the seller is a dealer (0) or an individual (1)\n",
    "- **Transmission**: whether the car is automatic (0) or manual (1)\n",
    "\n",
    "*Target:*\n",
    "- **depreciation**: % of price decrease between the price the car was sold for and the **Present_Price**\n",
    "\n",
    "*source: [Kaggle](https://www.kaggle.com/nehalbirla/vehicle-dataset-from-cardekho)*"
   ]
  },
  {
   "cell_type": "markdown",
   "id": "80490a09-3b8a-4877-9587-687d15499c2c",
   "metadata": {},
   "source": [
    "#### Understanding the data"
   ]
  },
  {
   "cell_type": "code",
   "execution_count": 3,
   "id": "98cd6d5e-a3f9-430d-995e-f34dbe69813a",
   "metadata": {},
   "outputs": [
    {
     "data": {
      "text/plain": [
       "(298, 7)"
      ]
     },
     "execution_count": 3,
     "metadata": {},
     "output_type": "execute_result"
    }
   ],
   "source": [
    "# Rows and columns in the dataset\n",
    "df.shape"
   ]
  },
  {
   "cell_type": "code",
   "execution_count": 4,
   "id": "d815c501-8c2e-4fee-b554-9138dc51d945",
   "metadata": {},
   "outputs": [
    {
     "data": {
      "text/plain": [
       "Car_Age            int64\n",
       "Present_Price    float64\n",
       "Kms_Driven       float64\n",
       "Fuel_Type          int64\n",
       "Seller_Type        int64\n",
       "Transmission       int64\n",
       "depreciation     float64\n",
       "dtype: object"
      ]
     },
     "execution_count": 4,
     "metadata": {},
     "output_type": "execute_result"
    }
   ],
   "source": [
    "# Columns and datatypes\n",
    "df.dtypes"
   ]
  },
  {
   "cell_type": "code",
   "execution_count": 5,
   "id": "d47cbdd7-7764-4571-a30b-6242f8cde20c",
   "metadata": {},
   "outputs": [
    {
     "data": {
      "text/html": [
       "<div>\n",
       "<style scoped>\n",
       "    .dataframe tbody tr th:only-of-type {\n",
       "        vertical-align: middle;\n",
       "    }\n",
       "\n",
       "    .dataframe tbody tr th {\n",
       "        vertical-align: top;\n",
       "    }\n",
       "\n",
       "    .dataframe thead th {\n",
       "        text-align: right;\n",
       "    }\n",
       "</style>\n",
       "<table border=\"1\" class=\"dataframe\">\n",
       "  <thead>\n",
       "    <tr style=\"text-align: right;\">\n",
       "      <th></th>\n",
       "      <th>Car_Age</th>\n",
       "      <th>Present_Price</th>\n",
       "      <th>Kms_Driven</th>\n",
       "      <th>Fuel_Type</th>\n",
       "      <th>Seller_Type</th>\n",
       "      <th>Transmission</th>\n",
       "      <th>depreciation</th>\n",
       "    </tr>\n",
       "  </thead>\n",
       "  <tbody>\n",
       "    <tr>\n",
       "      <th>count</th>\n",
       "      <td>298.000000</td>\n",
       "      <td>298.000000</td>\n",
       "      <td>298.000000</td>\n",
       "      <td>298.000000</td>\n",
       "      <td>298.000000</td>\n",
       "      <td>298.000000</td>\n",
       "      <td>298.000000</td>\n",
       "    </tr>\n",
       "    <tr>\n",
       "      <th>mean</th>\n",
       "      <td>4.348993</td>\n",
       "      <td>7.660470</td>\n",
       "      <td>3.535440</td>\n",
       "      <td>0.798658</td>\n",
       "      <td>0.352349</td>\n",
       "      <td>0.869128</td>\n",
       "      <td>0.363680</td>\n",
       "    </tr>\n",
       "    <tr>\n",
       "      <th>std</th>\n",
       "      <td>2.882494</td>\n",
       "      <td>8.676554</td>\n",
       "      <td>2.832653</td>\n",
       "      <td>0.401678</td>\n",
       "      <td>0.478506</td>\n",
       "      <td>0.337828</td>\n",
       "      <td>0.202061</td>\n",
       "    </tr>\n",
       "    <tr>\n",
       "      <th>min</th>\n",
       "      <td>0.000000</td>\n",
       "      <td>0.320000</td>\n",
       "      <td>0.050000</td>\n",
       "      <td>0.000000</td>\n",
       "      <td>0.000000</td>\n",
       "      <td>0.000000</td>\n",
       "      <td>0.010745</td>\n",
       "    </tr>\n",
       "    <tr>\n",
       "      <th>25%</th>\n",
       "      <td>2.000000</td>\n",
       "      <td>1.215000</td>\n",
       "      <td>1.500000</td>\n",
       "      <td>1.000000</td>\n",
       "      <td>0.000000</td>\n",
       "      <td>1.000000</td>\n",
       "      <td>0.209098</td>\n",
       "    </tr>\n",
       "    <tr>\n",
       "      <th>50%</th>\n",
       "      <td>4.000000</td>\n",
       "      <td>6.445000</td>\n",
       "      <td>3.180200</td>\n",
       "      <td>1.000000</td>\n",
       "      <td>0.000000</td>\n",
       "      <td>1.000000</td>\n",
       "      <td>0.343821</td>\n",
       "    </tr>\n",
       "    <tr>\n",
       "      <th>75%</th>\n",
       "      <td>6.000000</td>\n",
       "      <td>9.900000</td>\n",
       "      <td>4.775000</td>\n",
       "      <td>1.000000</td>\n",
       "      <td>1.000000</td>\n",
       "      <td>1.000000</td>\n",
       "      <td>0.493553</td>\n",
       "    </tr>\n",
       "    <tr>\n",
       "      <th>max</th>\n",
       "      <td>15.000000</td>\n",
       "      <td>92.600000</td>\n",
       "      <td>21.300000</td>\n",
       "      <td>1.000000</td>\n",
       "      <td>1.000000</td>\n",
       "      <td>1.000000</td>\n",
       "      <td>0.894648</td>\n",
       "    </tr>\n",
       "  </tbody>\n",
       "</table>\n",
       "</div>"
      ],
      "text/plain": [
       "          Car_Age  Present_Price  Kms_Driven   Fuel_Type  Seller_Type  \\\n",
       "count  298.000000     298.000000  298.000000  298.000000   298.000000   \n",
       "mean     4.348993       7.660470    3.535440    0.798658     0.352349   \n",
       "std      2.882494       8.676554    2.832653    0.401678     0.478506   \n",
       "min      0.000000       0.320000    0.050000    0.000000     0.000000   \n",
       "25%      2.000000       1.215000    1.500000    1.000000     0.000000   \n",
       "50%      4.000000       6.445000    3.180200    1.000000     0.000000   \n",
       "75%      6.000000       9.900000    4.775000    1.000000     1.000000   \n",
       "max     15.000000      92.600000   21.300000    1.000000     1.000000   \n",
       "\n",
       "       Transmission  depreciation  \n",
       "count    298.000000    298.000000  \n",
       "mean       0.869128      0.363680  \n",
       "std        0.337828      0.202061  \n",
       "min        0.000000      0.010745  \n",
       "25%        1.000000      0.209098  \n",
       "50%        1.000000      0.343821  \n",
       "75%        1.000000      0.493553  \n",
       "max        1.000000      0.894648  "
      ]
     },
     "execution_count": 5,
     "metadata": {},
     "output_type": "execute_result"
    }
   ],
   "source": [
    "# Readable summary of the data\n",
    "df.describe()"
   ]
  },
  {
   "cell_type": "code",
   "execution_count": 6,
   "id": "951d9a07-dda6-40f1-a7c2-97f2c1e1a23e",
   "metadata": {},
   "outputs": [
    {
     "data": {
      "text/plain": [
       "0       5.59\n",
       "1       9.54\n",
       "2       9.85\n",
       "3       4.15\n",
       "4       6.87\n",
       "       ...  \n",
       "293    11.60\n",
       "294     5.90\n",
       "295    11.00\n",
       "296    12.50\n",
       "297     5.90\n",
       "Name: Present_Price, Length: 298, dtype: float64"
      ]
     },
     "execution_count": 6,
     "metadata": {},
     "output_type": "execute_result"
    }
   ],
   "source": [
    "# Separate columns: Present_Price\n",
    "df['Present_Price']"
   ]
  },
  {
   "cell_type": "code",
   "execution_count": 7,
   "id": "ccf15b47-f2f3-47da-9eb1-7ccc3cb28730",
   "metadata": {},
   "outputs": [
    {
     "data": {
      "text/html": [
       "<div>\n",
       "<style scoped>\n",
       "    .dataframe tbody tr th:only-of-type {\n",
       "        vertical-align: middle;\n",
       "    }\n",
       "\n",
       "    .dataframe tbody tr th {\n",
       "        vertical-align: top;\n",
       "    }\n",
       "\n",
       "    .dataframe thead th {\n",
       "        text-align: right;\n",
       "    }\n",
       "</style>\n",
       "<table border=\"1\" class=\"dataframe\">\n",
       "  <thead>\n",
       "    <tr style=\"text-align: right;\">\n",
       "      <th></th>\n",
       "      <th>Present_Price</th>\n",
       "      <th>Kms_Driven</th>\n",
       "    </tr>\n",
       "  </thead>\n",
       "  <tbody>\n",
       "    <tr>\n",
       "      <th>0</th>\n",
       "      <td>5.59</td>\n",
       "      <td>2.7000</td>\n",
       "    </tr>\n",
       "    <tr>\n",
       "      <th>1</th>\n",
       "      <td>9.54</td>\n",
       "      <td>4.3000</td>\n",
       "    </tr>\n",
       "    <tr>\n",
       "      <th>2</th>\n",
       "      <td>9.85</td>\n",
       "      <td>0.6900</td>\n",
       "    </tr>\n",
       "    <tr>\n",
       "      <th>3</th>\n",
       "      <td>4.15</td>\n",
       "      <td>0.5200</td>\n",
       "    </tr>\n",
       "    <tr>\n",
       "      <th>4</th>\n",
       "      <td>6.87</td>\n",
       "      <td>4.2450</td>\n",
       "    </tr>\n",
       "    <tr>\n",
       "      <th>...</th>\n",
       "      <td>...</td>\n",
       "      <td>...</td>\n",
       "    </tr>\n",
       "    <tr>\n",
       "      <th>293</th>\n",
       "      <td>11.60</td>\n",
       "      <td>3.3988</td>\n",
       "    </tr>\n",
       "    <tr>\n",
       "      <th>294</th>\n",
       "      <td>5.90</td>\n",
       "      <td>6.0000</td>\n",
       "    </tr>\n",
       "    <tr>\n",
       "      <th>295</th>\n",
       "      <td>11.00</td>\n",
       "      <td>8.7934</td>\n",
       "    </tr>\n",
       "    <tr>\n",
       "      <th>296</th>\n",
       "      <td>12.50</td>\n",
       "      <td>0.9000</td>\n",
       "    </tr>\n",
       "    <tr>\n",
       "      <th>297</th>\n",
       "      <td>5.90</td>\n",
       "      <td>0.5464</td>\n",
       "    </tr>\n",
       "  </tbody>\n",
       "</table>\n",
       "<p>298 rows × 2 columns</p>\n",
       "</div>"
      ],
      "text/plain": [
       "     Present_Price  Kms_Driven\n",
       "0             5.59      2.7000\n",
       "1             9.54      4.3000\n",
       "2             9.85      0.6900\n",
       "3             4.15      0.5200\n",
       "4             6.87      4.2450\n",
       "..             ...         ...\n",
       "293          11.60      3.3988\n",
       "294           5.90      6.0000\n",
       "295          11.00      8.7934\n",
       "296          12.50      0.9000\n",
       "297           5.90      0.5464\n",
       "\n",
       "[298 rows x 2 columns]"
      ]
     },
     "execution_count": 7,
     "metadata": {},
     "output_type": "execute_result"
    }
   ],
   "source": [
    "# Separate columns: Present_Price and Kms_Driven\n",
    "df[['Present_Price', 'Kms_Driven']]"
   ]
  },
  {
   "cell_type": "markdown",
   "id": "c9f05717-56d8-431d-a3e8-22a4acf1e689",
   "metadata": {},
   "source": [
    "### Visualizations"
   ]
  },
  {
   "cell_type": "code",
   "execution_count": 8,
   "id": "5d970f5a-a220-4d4b-8479-c503d6cc07cf",
   "metadata": {},
   "outputs": [
    {
     "data": {
      "text/plain": [
       "<Axes: xlabel='Kms_Driven', ylabel='depreciation'>"
      ]
     },
     "execution_count": 8,
     "metadata": {},
     "output_type": "execute_result"
    },
    {
     "data": {
      "image/png": "[encoded data removed]",
      "text/plain": [
       "<Figure size 640x480 with 1 Axes>"
      ]
     },
     "metadata": {},
     "output_type": "display_data"
    }
   ],
   "source": [
    "# Determine if the number of kilometers driven or the age of the car affect the depreciation of the car\n",
    "# Kms_Driven vs depreciation\n",
    "sns.scatterplot(data=df, x='Kms_Driven', y='depreciation')"
   ]
  },
  {
   "cell_type": "code",
   "execution_count": 9,
   "id": "16eb65d4-a5bc-4d64-9067-e61e37bf63cd",
   "metadata": {},
   "outputs": [
    {
     "data": {
      "text/plain": [
       "<Axes: xlabel='Car_Age', ylabel='depreciation'>"
      ]
     },
     "execution_count": 9,
     "metadata": {},
     "output_type": "execute_result"
    },
    {
     "data": {
      "image/png": "[encoded data removed]",
      "text/plain": [
       "<Figure size 640x480 with 1 Axes>"
      ]
     },
     "metadata": {},
     "output_type": "display_data"
    }
   ],
   "source": [
    "# Car_Age vs depreciation\n",
    "sns.scatterplot(data=df, x='Car_Age', y='depreciation')"
   ]
  },
  {
   "cell_type": "code",
   "execution_count": 10,
   "id": "7396f0af-9c29-4e5a-b628-36992b35aeca",
   "metadata": {},
   "outputs": [
    {
     "data": {
      "text/plain": [
       "<Axes: xlabel='Kms_Driven', ylabel='depreciation'>"
      ]
     },
     "execution_count": 10,
     "metadata": {},
     "output_type": "execute_result"
    },
    {
     "data": {
      "image/png": "[encoded data removed]",
      "text/plain": [
       "<Figure size 640x480 with 1 Axes>"
      ]
     },
     "metadata": {},
     "output_type": "display_data"
    }
   ],
   "source": [
    "# Determine if petrol car depreciate faster that diesel car\n",
    "#fuel type: Diesel (0) or Petrol (1)\n",
    "\n",
    "sns.scatterplot(data=df, x=\"Kms_Driven\", y=\"depreciation\", hue=\"Fuel_Type\")"
   ]
  },
  {
   "cell_type": "code",
   "execution_count": 11,
   "id": "f2b56c5e-5c13-4634-90c6-b13e79f597d1",
   "metadata": {},
   "outputs": [
    {
     "data": {
      "text/plain": [
       "<Axes: xlabel='Seller_Type', ylabel='count'>"
      ]
     },
     "execution_count": 11,
     "metadata": {},
     "output_type": "execute_result"
    },
    {
     "data": {
      "image/png": "[encoded data removed]",
      "text/plain": [
       "<Figure size 640x480 with 1 Axes>"
      ]
     },
     "metadata": {},
     "output_type": "display_data"
    }
   ],
   "source": [
    "# Determine how many professional dealers vs individual sellers are there in the dataset\n",
    "# Seller_Type: whether the seller is a dealer (0) or an individual (1)\n",
    "\n",
    "sns.countplot(data=df, x=\"Seller_Type\")"
   ]
  },
  {
   "cell_type": "code",
   "execution_count": 12,
   "id": "887e420e-1b05-47a7-ae3c-0ed8c8ff3255",
   "metadata": {},
   "outputs": [
    {
     "data": {
      "text/plain": [
       "<Axes: xlabel='Transmission', ylabel='count'>"
      ]
     },
     "execution_count": 12,
     "metadata": {},
     "output_type": "execute_result"
    },
    {
     "data": {
      "image/png": "[encoded data removed]",
      "text/plain": [
       "<Figure size 640x480 with 1 Axes>"
      ]
     },
     "metadata": {},
     "output_type": "display_data"
    }
   ],
   "source": [
    "# Determine how many automatic vs manual transmission cars are there in the dataset\n",
    "# Transmission: whether the car is automatic (0) or manual (1)\n",
    "sns.countplot(data=df, x=\"Transmission\")"
   ]
  },
  {
   "cell_type": "markdown",
   "id": "cb8457ac-a7eb-406c-bbd5-179333031654",
   "metadata": {},
   "source": [
    "### Linear Regression Model"
   ]
  },
  {
   "cell_type": "code",
   "execution_count": 27,
   "id": "f2f4605c-b5a7-4f72-a97d-79f5b321aa81",
   "metadata": {},
   "outputs": [],
   "source": [
    "# Import and Initialize model\n",
    "from sklearn.linear_model import LinearRegression\n",
    "model = LinearRegression()"
   ]
  },
  {
   "cell_type": "code",
   "execution_count": 28,
   "id": "b6ffece8-ede2-472b-b8c2-1a5b06b69e6f",
   "metadata": {},
   "outputs": [],
   "source": [
    "# Split the data into features(x) and target(y)\n",
    "\n",
    "features = df.drop(['depreciation'], axis='columns')\n",
    "target = df['depreciation']"
   ]
  },
  {
   "cell_type": "code",
   "execution_count": 29,
   "id": "c536f892-84ba-4e23-9fda-682653c246a9",
   "metadata": {},
   "outputs": [
    {
     "data": {
      "text/html": [
       "<style>#sk-container-id-1 {color: black;background-color: white;}#sk-container-id-1 pre{padding: 0;}#sk-container-id-1 div.sk-toggleable {background-color: white;}#sk-container-id-1 label.sk-toggleable__label {cursor: pointer;display: block;width: 100%;margin-bottom: 0;padding: 0.3em;box-sizing: border-box;text-align: center;}#sk-container-id-1 label.sk-toggleable__label-arrow:before {content: \"▸\";float: left;margin-right: 0.25em;color: #696969;}#sk-container-id-1 label.sk-toggleable__label-arrow:hover:before {color: black;}#sk-container-id-1 div.sk-estimator:hover label.sk-toggleable__label-arrow:before {color: black;}#sk-container-id-1 div.sk-toggleable__content {max-height: 0;max-width: 0;overflow: hidden;text-align: left;background-color: #f0f8ff;}#sk-container-id-1 div.sk-toggleable__content pre {margin: 0.2em;color: black;border-radius: 0.25em;background-color: #f0f8ff;}#sk-container-id-1 input.sk-toggleable__control:checked~div.sk-toggleable__content {max-height: 200px;max-width: 100%;overflow: auto;}#sk-container-id-1 input.sk-toggleable__control:checked~label.sk-toggleable__label-arrow:before {content: \"▾\";}#sk-container-id-1 div.sk-estimator input.sk-toggleable__control:checked~label.sk-toggleable__label {background-color: #d4ebff;}#sk-container-id-1 div.sk-label input.sk-toggleable__control:checked~label.sk-toggleable__label {background-color: #d4ebff;}#sk-container-id-1 input.sk-hidden--visually {border: 0;clip: rect(1px 1px 1px 1px);clip: rect(1px, 1px, 1px, 1px);height: 1px;margin: -1px;overflow: hidden;padding: 0;position: absolute;width: 1px;}#sk-container-id-1 div.sk-estimator {font-family: monospace;background-color: #f0f8ff;border: 1px dotted black;border-radius: 0.25em;box-sizing: border-box;margin-bottom: 0.5em;}#sk-container-id-1 div.sk-estimator:hover {background-color: #d4ebff;}#sk-container-id-1 div.sk-parallel-item::after {content: \"\";width: 100%;border-bottom: 1px solid gray;flex-grow: 1;}#sk-container-id-1 div.sk-label:hover label.sk-toggleable__label {background-color: #d4ebff;}#sk-container-id-1 div.sk-serial::before {content: \"\";position: absolute;border-left: 1px solid gray;box-sizing: border-box;top: 0;bottom: 0;left: 50%;z-index: 0;}#sk-container-id-1 div.sk-serial {display: flex;flex-direction: column;align-items: center;background-color: white;padding-right: 0.2em;padding-left: 0.2em;position: relative;}#sk-container-id-1 div.sk-item {position: relative;z-index: 1;}#sk-container-id-1 div.sk-parallel {display: flex;align-items: stretch;justify-content: center;background-color: white;position: relative;}#sk-container-id-1 div.sk-item::before, #sk-container-id-1 div.sk-parallel-item::before {content: \"\";position: absolute;border-left: 1px solid gray;box-sizing: border-box;top: 0;bottom: 0;left: 50%;z-index: -1;}#sk-container-id-1 div.sk-parallel-item {display: flex;flex-direction: column;z-index: 1;position: relative;background-color: white;}#sk-container-id-1 div.sk-parallel-item:first-child::after {align-self: flex-end;width: 50%;}#sk-container-id-1 div.sk-parallel-item:last-child::after {align-self: flex-start;width: 50%;}#sk-container-id-1 div.sk-parallel-item:only-child::after {width: 0;}#sk-container-id-1 div.sk-dashed-wrapped {border: 1px dashed gray;margin: 0 0.4em 0.5em 0.4em;box-sizing: border-box;padding-bottom: 0.4em;background-color: white;}#sk-container-id-1 div.sk-label label {font-family: monospace;font-weight: bold;display: inline-block;line-height: 1.2em;}#sk-container-id-1 div.sk-label-container {text-align: center;}#sk-container-id-1 div.sk-container {/* jupyter's `normalize.less` sets `[hidden] { display: none; }` but bootstrap.min.css set `[hidden] { display: none !important; }` so we also need the `!important` here to be able to override the default hidden behavior on the sphinx rendered scikit-learn.org. See: https://github.com/scikit-learn/scikit-learn/issues/21755 */display: inline-block !important;position: relative;}#sk-container-id-1 div.sk-text-repr-fallback {display: none;}</style><div id=\"sk-container-id-1\" class=\"sk-top-container\"><div class=\"sk-text-repr-fallback\"><pre>LinearRegression()</pre><b>In a Jupyter environment, please rerun this cell to show the HTML representation or trust the notebook. <br />On GitHub, the HTML representation is unable to render, please try loading this page with nbviewer.org.</b></div><div class=\"sk-container\" hidden><div class=\"sk-item\"><div class=\"sk-estimator sk-toggleable\"><input class=\"sk-toggleable__control sk-hidden--visually\" id=\"sk-estimator-id-1\" type=\"checkbox\" checked><label for=\"sk-estimator-id-1\" class=\"sk-toggleable__label sk-toggleable__label-arrow\">LinearRegression</label><div class=\"sk-toggleable__content\"><pre>LinearRegression()</pre></div></div></div></div></div>"
      ],
      "text/plain": [
       "LinearRegression()"
      ]
     },
     "execution_count": 29,
     "metadata": {},
     "output_type": "execute_result"
    }
   ],
   "source": [
    "# Train the model\n",
    "model.fit(features, target)"
   ]
  },
  {
   "cell_type": "code",
   "execution_count": 30,
   "id": "35d89739-2b2c-4661-b0fd-55d8d2ca6dbb",
   "metadata": {},
   "outputs": [
    {
     "data": {
      "text/plain": [
       "0.7525848407036185"
      ]
     },
     "execution_count": 30,
     "metadata": {},
     "output_type": "execute_result"
    }
   ],
   "source": [
    "# Score the model\n",
    "model.score(features, target)"
   ]
  },
  {
   "cell_type": "markdown",
   "id": "d64444a1-f7a9-4254-aee2-f0f11b922077",
   "metadata": {},
   "source": [
    "#### Predict\n",
    "The car has the following characteristics:\r\n",
    "- **Age**: 3 years\r\n",
    "- **Present price**: $15,000\r\n",
    "- **Kms driven**: 30,000\r\n",
    "- **Fuel**: Diesel\r\n",
    "- The **seller** is a professional dealer\r\n",
    "- **Transmission**: Manual"
   ]
  },
  {
   "cell_type": "code",
   "execution_count": 32,
   "id": "cf48d1f3-74b1-42fd-acab-25f9e96ffdc1",
   "metadata": {},
   "outputs": [
    {
     "name": "stderr",
     "output_type": "stream",
     "text": [
      "C:\\Users\\nevas\\anaconda3\\Lib\\site-packages\\sklearn\\base.py:439: UserWarning: X does not have valid feature names, but LinearRegression was fitted with feature names\n",
      "  warnings.warn(\n"
     ]
    },
    {
     "data": {
      "text/plain": [
       "array([0.24609526])"
      ]
     },
     "execution_count": 32,
     "metadata": {},
     "output_type": "execute_result"
    }
   ],
   "source": [
    "new_car = [[3, 15.0, 3, 0, 0, 1]]\n",
    "model.predict(new_car)"
   ]
  },
  {
   "cell_type": "code",
   "execution_count": 35,
   "id": "eae0b68f-424b-4453-8b8d-6799ceb15317",
   "metadata": {},
   "outputs": [
    {
     "name": "stderr",
     "output_type": "stream",
     "text": [
      "C:\\Users\\nevas\\anaconda3\\Lib\\site-packages\\sklearn\\base.py:439: UserWarning: X does not have valid feature names, but LinearRegression was fitted with feature names\n",
      "  warnings.warn(\n"
     ]
    },
    {
     "data": {
      "text/plain": [
       "array([0.24609526, 0.28718727])"
      ]
     },
     "execution_count": 35,
     "metadata": {},
     "output_type": "execute_result"
    }
   ],
   "source": [
    "# Car depreciation with 60,000 km\n",
    "new_car = [[3, 15.0, 3, 0, 0, 1], [3, 15.0, 6, 0, 0, 1]]\n",
    "model.predict(new_car)"
   ]
  },
  {
   "cell_type": "code",
   "execution_count": 36,
   "id": "08b06dac-75ee-4bcc-a317-4d026eb840af",
   "metadata": {},
   "outputs": [
    {
     "data": {
      "text/plain": [
       "array([0.04974401, 0.00296899, 0.01369734, 0.07512606, 0.02558348,\n",
       "       0.03115334])"
      ]
     },
     "execution_count": 36,
     "metadata": {},
     "output_type": "execute_result"
    }
   ],
   "source": [
    "# Explaining the model\n",
    "# check the coefficients of the model\n",
    "model.coef_"
   ]
  },
  {
   "cell_type": "code",
   "execution_count": 39,
   "id": "3582ee62-d9cb-41d7-bdf2-2fcf30893780",
   "metadata": {},
   "outputs": [
    {
     "data": {
      "text/html": [
       "<div>\n",
       "<style scoped>\n",
       "    .dataframe tbody tr th:only-of-type {\n",
       "        vertical-align: middle;\n",
       "    }\n",
       "\n",
       "    .dataframe tbody tr th {\n",
       "        vertical-align: top;\n",
       "    }\n",
       "\n",
       "    .dataframe thead th {\n",
       "        text-align: right;\n",
       "    }\n",
       "</style>\n",
       "<table border=\"1\" class=\"dataframe\">\n",
       "  <thead>\n",
       "    <tr style=\"text-align: right;\">\n",
       "      <th></th>\n",
       "      <th>0</th>\n",
       "      <th>0</th>\n",
       "    </tr>\n",
       "  </thead>\n",
       "  <tbody>\n",
       "    <tr>\n",
       "      <th>0</th>\n",
       "      <td>Car_Age</td>\n",
       "      <td>0.049744</td>\n",
       "    </tr>\n",
       "    <tr>\n",
       "      <th>1</th>\n",
       "      <td>Present_Price</td>\n",
       "      <td>0.002969</td>\n",
       "    </tr>\n",
       "    <tr>\n",
       "      <th>2</th>\n",
       "      <td>Kms_Driven</td>\n",
       "      <td>0.013697</td>\n",
       "    </tr>\n",
       "    <tr>\n",
       "      <th>3</th>\n",
       "      <td>Fuel_Type</td>\n",
       "      <td>0.075126</td>\n",
       "    </tr>\n",
       "    <tr>\n",
       "      <th>4</th>\n",
       "      <td>Seller_Type</td>\n",
       "      <td>0.025583</td>\n",
       "    </tr>\n",
       "    <tr>\n",
       "      <th>5</th>\n",
       "      <td>Transmission</td>\n",
       "      <td>0.031153</td>\n",
       "    </tr>\n",
       "  </tbody>\n",
       "</table>\n",
       "</div>"
      ],
      "text/plain": [
       "               0         0\n",
       "0        Car_Age  0.049744\n",
       "1  Present_Price  0.002969\n",
       "2     Kms_Driven  0.013697\n",
       "3      Fuel_Type  0.075126\n",
       "4    Seller_Type  0.025583\n",
       "5   Transmission  0.031153"
      ]
     },
     "execution_count": 39,
     "metadata": {},
     "output_type": "execute_result"
    }
   ],
   "source": [
    "# Column name with coef_ input\n",
    "\n",
    "pd.concat([pd.DataFrame(features.columns),pd.DataFrame(np.transpose(model.coef_))], axis = 1)"
   ]
  },
  {
   "cell_type": "code",
   "execution_count": 40,
   "id": "a5802b1e-b81b-494c-856a-f8fdd7e49243",
   "metadata": {},
   "outputs": [
    {
     "data": {
      "text/plain": [
       "-0.01991689935055979"
      ]
     },
     "execution_count": 40,
     "metadata": {},
     "output_type": "execute_result"
    }
   ],
   "source": [
    "# Check the intercept of the model\n",
    "model.intercept_\n",
    "# This is the target (depreciation) for when all inputs are 0 (new car out of factory)"
   ]
  },
  {
   "cell_type": "markdown",
   "id": "d8abd156-7406-4271-910a-02d310303231",
   "metadata": {},
   "source": [
    "### Holdout Method"
   ]
  },
  {
   "cell_type": "code",
   "execution_count": 44,
   "id": "0aa3131a-925c-491d-afd4-dbc0d28354ee",
   "metadata": {},
   "outputs": [],
   "source": [
    "# Import the model\n",
    "from sklearn.model_selection import train_test_split"
   ]
  },
  {
   "cell_type": "code",
   "execution_count": 45,
   "id": "120d4886-5dea-4066-844a-67e67499e643",
   "metadata": {},
   "outputs": [],
   "source": [
    "# create X_train, X_test, y_train, y_test\n",
    "X_train, X_test, y_train, y_test = train_test_split(features, target, random_state=42)"
   ]
  },
  {
   "cell_type": "code",
   "execution_count": 50,
   "id": "b7942417-64c6-4ed1-8fb1-8f1c1c9d6aa8",
   "metadata": {},
   "outputs": [
    {
     "name": "stdout",
     "output_type": "stream",
     "text": [
      "Percentage in train set: 0.75%\n",
      "Percentage in test set: 0.25%\n"
     ]
    }
   ],
   "source": [
    "# Determine what percentage of the observations were allocated to the train and the test set?\n",
    "print(f\"Percentage in train set: {round(X_train.shape[0]/features.shape[0], 2)}%\")\n",
    "print(f\"Percentage in test set: {round(X_test.shape[0]/features.shape[0], 2)}%\")"
   ]
  },
  {
   "cell_type": "code",
   "execution_count": 46,
   "id": "67deb61f-6029-42e6-87b4-ebec24dbd402",
   "metadata": {},
   "outputs": [],
   "source": [
    "# Initialize the model\n",
    "model2 = LinearRegression()"
   ]
  },
  {
   "cell_type": "code",
   "execution_count": 47,
   "id": "084e1fcc-54a2-470f-bdbd-7bf279933eb9",
   "metadata": {},
   "outputs": [
    {
     "data": {
      "text/html": [
       "<style>#sk-container-id-2 {color: black;background-color: white;}#sk-container-id-2 pre{padding: 0;}#sk-container-id-2 div.sk-toggleable {background-color: white;}#sk-container-id-2 label.sk-toggleable__label {cursor: pointer;display: block;width: 100%;margin-bottom: 0;padding: 0.3em;box-sizing: border-box;text-align: center;}#sk-container-id-2 label.sk-toggleable__label-arrow:before {content: \"▸\";float: left;margin-right: 0.25em;color: #696969;}#sk-container-id-2 label.sk-toggleable__label-arrow:hover:before {color: black;}#sk-container-id-2 div.sk-estimator:hover label.sk-toggleable__label-arrow:before {color: black;}#sk-container-id-2 div.sk-toggleable__content {max-height: 0;max-width: 0;overflow: hidden;text-align: left;background-color: #f0f8ff;}#sk-container-id-2 div.sk-toggleable__content pre {margin: 0.2em;color: black;border-radius: 0.25em;background-color: #f0f8ff;}#sk-container-id-2 input.sk-toggleable__control:checked~div.sk-toggleable__content {max-height: 200px;max-width: 100%;overflow: auto;}#sk-container-id-2 input.sk-toggleable__control:checked~label.sk-toggleable__label-arrow:before {content: \"▾\";}#sk-container-id-2 div.sk-estimator input.sk-toggleable__control:checked~label.sk-toggleable__label {background-color: #d4ebff;}#sk-container-id-2 div.sk-label input.sk-toggleable__control:checked~label.sk-toggleable__label {background-color: #d4ebff;}#sk-container-id-2 input.sk-hidden--visually {border: 0;clip: rect(1px 1px 1px 1px);clip: rect(1px, 1px, 1px, 1px);height: 1px;margin: -1px;overflow: hidden;padding: 0;position: absolute;width: 1px;}#sk-container-id-2 div.sk-estimator {font-family: monospace;background-color: #f0f8ff;border: 1px dotted black;border-radius: 0.25em;box-sizing: border-box;margin-bottom: 0.5em;}#sk-container-id-2 div.sk-estimator:hover {background-color: #d4ebff;}#sk-container-id-2 div.sk-parallel-item::after {content: \"\";width: 100%;border-bottom: 1px solid gray;flex-grow: 1;}#sk-container-id-2 div.sk-label:hover label.sk-toggleable__label {background-color: #d4ebff;}#sk-container-id-2 div.sk-serial::before {content: \"\";position: absolute;border-left: 1px solid gray;box-sizing: border-box;top: 0;bottom: 0;left: 50%;z-index: 0;}#sk-container-id-2 div.sk-serial {display: flex;flex-direction: column;align-items: center;background-color: white;padding-right: 0.2em;padding-left: 0.2em;position: relative;}#sk-container-id-2 div.sk-item {position: relative;z-index: 1;}#sk-container-id-2 div.sk-parallel {display: flex;align-items: stretch;justify-content: center;background-color: white;position: relative;}#sk-container-id-2 div.sk-item::before, #sk-container-id-2 div.sk-parallel-item::before {content: \"\";position: absolute;border-left: 1px solid gray;box-sizing: border-box;top: 0;bottom: 0;left: 50%;z-index: -1;}#sk-container-id-2 div.sk-parallel-item {display: flex;flex-direction: column;z-index: 1;position: relative;background-color: white;}#sk-container-id-2 div.sk-parallel-item:first-child::after {align-self: flex-end;width: 50%;}#sk-container-id-2 div.sk-parallel-item:last-child::after {align-self: flex-start;width: 50%;}#sk-container-id-2 div.sk-parallel-item:only-child::after {width: 0;}#sk-container-id-2 div.sk-dashed-wrapped {border: 1px dashed gray;margin: 0 0.4em 0.5em 0.4em;box-sizing: border-box;padding-bottom: 0.4em;background-color: white;}#sk-container-id-2 div.sk-label label {font-family: monospace;font-weight: bold;display: inline-block;line-height: 1.2em;}#sk-container-id-2 div.sk-label-container {text-align: center;}#sk-container-id-2 div.sk-container {/* jupyter's `normalize.less` sets `[hidden] { display: none; }` but bootstrap.min.css set `[hidden] { display: none !important; }` so we also need the `!important` here to be able to override the default hidden behavior on the sphinx rendered scikit-learn.org. See: https://github.com/scikit-learn/scikit-learn/issues/21755 */display: inline-block !important;position: relative;}#sk-container-id-2 div.sk-text-repr-fallback {display: none;}</style><div id=\"sk-container-id-2\" class=\"sk-top-container\"><div class=\"sk-text-repr-fallback\"><pre>LinearRegression()</pre><b>In a Jupyter environment, please rerun this cell to show the HTML representation or trust the notebook. <br />On GitHub, the HTML representation is unable to render, please try loading this page with nbviewer.org.</b></div><div class=\"sk-container\" hidden><div class=\"sk-item\"><div class=\"sk-estimator sk-toggleable\"><input class=\"sk-toggleable__control sk-hidden--visually\" id=\"sk-estimator-id-2\" type=\"checkbox\" checked><label for=\"sk-estimator-id-2\" class=\"sk-toggleable__label sk-toggleable__label-arrow\">LinearRegression</label><div class=\"sk-toggleable__content\"><pre>LinearRegression()</pre></div></div></div></div></div>"
      ],
      "text/plain": [
       "LinearRegression()"
      ]
     },
     "execution_count": 47,
     "metadata": {},
     "output_type": "execute_result"
    }
   ],
   "source": [
    "# Train the model on the training set\n",
    "model2.fit(X_train, y_train)"
   ]
  },
  {
   "cell_type": "code",
   "execution_count": 48,
   "id": "483bad44-94b5-476f-bb52-5bcb86f7360c",
   "metadata": {},
   "outputs": [
    {
     "data": {
      "text/plain": [
       "0.7113987618946471"
      ]
     },
     "execution_count": 48,
     "metadata": {},
     "output_type": "execute_result"
    }
   ],
   "source": [
    "# Score the model on the test set\n",
    "model2.score(X_test, y_test)"
   ]
  },
  {
   "cell_type": "code",
   "execution_count": 49,
   "id": "7c04f1bc-9818-4f76-848d-22e9cfefa14e",
   "metadata": {},
   "outputs": [
    {
     "data": {
      "text/plain": [
       "0.7573709846636194"
      ]
     },
     "execution_count": 49,
     "metadata": {},
     "output_type": "execute_result"
    }
   ],
   "source": [
    "# score to the one the model gets on the training set\n",
    "model2.score(X_train, y_train)"
   ]
  },
  {
   "cell_type": "code",
   "execution_count": null,
   "id": "f484ef59-086a-4736-81da-a37ece9d5ebe",
   "metadata": {},
   "outputs": [],
   "source": [
    "# The two scores are relatively close to each other, which shows that we achieved a good balance. \n",
    "# Our model generalizes well to new observations, explaining more than 70% of change in depreciation."
   ]
  },
  {
   "cell_type": "code",
   "execution_count": 51,
   "id": "c89b52f2-7270-4239-9b8b-f90e8867884c",
   "metadata": {},
   "outputs": [
    {
     "name": "stderr",
     "output_type": "stream",
     "text": [
      "C:\\Users\\nevas\\anaconda3\\Lib\\site-packages\\sklearn\\base.py:439: UserWarning: X does not have valid feature names, but LinearRegression was fitted with feature names\n",
      "  warnings.warn(\n"
     ]
    },
    {
     "data": {
      "text/plain": [
       "array([0.24999203])"
      ]
     },
     "execution_count": 51,
     "metadata": {},
     "output_type": "execute_result"
    }
   ],
   "source": [
    "# Predict the depreciation for a new car\n",
    "new_car = [[3, 15.0, 3, 0, 0, 1]]\n",
    "\n",
    "model2.predict(new_car)"
   ]
  },
  {
   "cell_type": "code",
   "execution_count": null,
   "id": "bf9f7cef-e8cb-4d30-9c81-cf78aba0eec7",
   "metadata": {},
   "outputs": [],
   "source": []
  }
 ],
 "metadata": {
  "kernelspec": {
   "display_name": "Python 3 (ipykernel)",
   "language": "python",
   "name": "python3"
  },
  "language_info": {
   "codemirror_mode": {
    "name": "ipython",
    "version": 3
   },
   "file_extension": ".py",
   "mimetype": "text/x-python",
   "name": "python",
   "nbconvert_exporter": "python",
   "pygments_lexer": "ipython3",
   "version": "3.11.7"
  }
 },
 "nbformat": 4,
 "nbformat_minor": 5
}
